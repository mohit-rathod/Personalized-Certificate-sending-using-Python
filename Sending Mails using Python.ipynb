{
 "cells": [
  {
   "cell_type": "markdown",
   "id": "395cb134",
   "metadata": {},
   "source": [
    "# Sending mails through Python"
   ]
  },
  {
   "cell_type": "markdown",
   "id": "7058985e",
   "metadata": {},
   "source": [
    "#### Importing Neccesary Libraries"
   ]
  },
  {
   "cell_type": "code",
   "execution_count": 2,
   "id": "1be72aa2",
   "metadata": {},
   "outputs": [],
   "source": [
    "import numpy as np\n",
    "import pandas as pd\n",
    "import smtplib \n",
    "from email.mime.multipart import MIMEMultipart \n",
    "from email.mime.text import MIMEText \n",
    "from email.mime.base import MIMEBase \n",
    "from email import encoders"
   ]
  },
  {
   "cell_type": "markdown",
   "id": "47f24a59",
   "metadata": {},
   "source": [
    "#### Creating list of mail Id's using a excel file"
   ]
  },
  {
   "cell_type": "code",
   "execution_count": null,
   "id": "c15413c7",
   "metadata": {},
   "outputs": [],
   "source": [
    "df = pd.read_excel('email-test.xlsx')\n",
    "List_1 = df['Email'].to_list()\n",
    "List_1"
   ]
  },
  {
   "cell_type": "markdown",
   "id": "9c5a2fed",
   "metadata": {},
   "source": [
    "#### Creating list of file attachments"
   ]
  },
  {
   "cell_type": "code",
   "execution_count": null,
   "id": "e2f792bf",
   "metadata": {},
   "outputs": [],
   "source": [
    "List_2 = []\n",
    "for i in range(1,10):\n",
    "    List_2.append('test-00'+str(i)+'.txt')\n",
    "for i in range(10,100):\n",
    "    List_2.append('test-0'+str(i)+'.txt')\n",
    "for i in range(100,500):\n",
    "    List_2.append('test-'+str(i)+'.txt')\n",
    "List_2"
   ]
  },
  {
   "cell_type": "markdown",
   "id": "22ef60b4",
   "metadata": {},
   "source": [
    "#### Sending E-Mails"
   ]
  },
  {
   "cell_type": "code",
   "execution_count": null,
   "id": "12e15d7a",
   "metadata": {},
   "outputs": [],
   "source": [
    "count = 1\n",
    "fromaddr = \"myemail@gmail.com\"  #Mail address from where you have to send mails\n",
    "for mail, form in zip(List_1,List_2):\n",
    "    toaddr = mail\n",
    "    msg = MIMEMultipart()\n",
    "    msg['From'] = fromaddr\n",
    "    msg['To'] = toaddr\n",
    "    msg['Subject'] = \"Subject\" #Subject of mail \n",
    "    body = \"\"\"Hello!\n",
    "This is a demo mail for using python programming\"\"\"  #Body of mail\n",
    "    msg.attach(MIMEText(body, 'plain')) \n",
    "    filename = form\n",
    "    attachment = open(form, \"rb\") \n",
    "    p = MIMEBase('application', 'octet-stream') \n",
    "    p.set_payload((attachment).read()) \n",
    "    encoders.encode_base64(p) \n",
    "    p.add_header('Content-Disposition', \"attachment; filename= %s\" % filename)  \n",
    "    msg.attach(p)\n",
    "    server = smtplib.SMTP('smtp.gmail.com:587')\n",
    "    server.starttls()\n",
    "    server.login(fromaddr, \"password\") # password of gmail account\n",
    "    text = msg.as_string()\n",
    "    server.sendmail(fromaddr, toaddr, text)\n",
    "    server.quit()\n",
    "    print(count, ' Mail sent to', mail)\n",
    "    count += 1\n",
    "    \n"
   ]
  }
 ],
 "metadata": {
  "kernelspec": {
   "display_name": "Python 3",
   "language": "python",
   "name": "python3"
  },
  "language_info": {
   "codemirror_mode": {
    "name": "ipython",
    "version": 3
   },
   "file_extension": ".py",
   "mimetype": "text/x-python",
   "name": "python",
   "nbconvert_exporter": "python",
   "pygments_lexer": "ipython3",
   "version": "3.8.1"
  }
 },
 "nbformat": 4,
 "nbformat_minor": 5
}
